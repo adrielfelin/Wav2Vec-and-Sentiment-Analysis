{
 "cells": [
  {
   "cell_type": "code",
   "execution_count": 16,
   "metadata": {},
   "outputs": [],
   "source": [
    "# Install and import needed libraries\n",
    "# %pip install pandas numpy scikit-learn nltk matplotlib torch transformers datasets torch transformers torchaudio jiwer"
   ]
  },
  {
   "cell_type": "code",
   "execution_count": 17,
   "metadata": {},
   "outputs": [],
   "source": [
    "# Importing libraries\n",
    "import pandas as pd\n",
    "import numpy as np\n",
    "import nltk\n",
    "from nltk.corpus import stopwords\n",
    "from nltk.tokenize import word_tokenize\n",
    "from nltk.stem import WordNetLemmatizer\n",
    "import string\n",
    "from sklearn.model_selection import train_test_split, GridSearchCV\n",
    "from sklearn.feature_extraction.text import TfidfVectorizer\n",
    "from sklearn.ensemble import RandomForestClassifier\n",
    "from sklearn.metrics import accuracy_score\n",
    "import matplotlib.pyplot as plt\n",
    "import torch\n",
    "from transformers import Wav2Vec2ForCTC, Wav2Vec2Tokenizer\n",
    "from torchaudio.datasets import LIBRISPEECH\n",
    "from torchaudio.transforms import Resample\n",
    "import joblib\n",
    "import os\n",
    "import torchaudio\n",
    "from jiwer import wer"
   ]
  },
  {
   "cell_type": "code",
   "execution_count": 18,
   "metadata": {},
   "outputs": [],
   "source": [
    "# Load the dataset\n",
    "df = pd.read_csv('movie.csv')"
   ]
  },
  {
   "cell_type": "code",
   "execution_count": 19,
   "metadata": {},
   "outputs": [],
   "source": [
    "# Text preprocessing\n",
    "stop_words = set(stopwords.words('english'))\n",
    "lemmatizer = WordNetLemmatizer()\n",
    "\n",
    "def preprocess_text(text):\n",
    "    # Ensure the text is a string\n",
    "    text = str(text)\n",
    "\n",
    "    # Lowercasing\n",
    "    text = text.lower()\n",
    "    \n",
    "    # Removing punctuation\n",
    "    text = text.translate(str.maketrans('', '', string.punctuation))\n",
    "    \n",
    "    # Tokenizing\n",
    "    words = word_tokenize(text)\n",
    "    \n",
    "    # Removing stopwords and non-alphabetic words\n",
    "    words = [word for word in words if word.isalpha() and word not in stop_words]\n",
    "    \n",
    "    # Lemmatizing\n",
    "    words = [lemmatizer.lemmatize(word) for word in words]\n",
    "    \n",
    "    return ' '.join(words)\n",
    "\n",
    "# Apply preprocessing\n",
    "df['text'] = df['text'].apply(preprocess_text)"
   ]
  },
  {
   "cell_type": "code",
   "execution_count": 20,
   "metadata": {},
   "outputs": [],
   "source": [
    "# Remove all labels except 'reviewText' and 'overall'\n",
    "df = df[['text', 'label']]"
   ]
  },
  {
   "cell_type": "code",
   "execution_count": 22,
   "metadata": {},
   "outputs": [],
   "source": [
    "# Train-test split\n",
    "X_train, X_test, y_train, y_test = train_test_split(df['text'], df['label'], test_size=0.2, random_state=42)"
   ]
  },
  {
   "cell_type": "code",
   "execution_count": 23,
   "metadata": {},
   "outputs": [],
   "source": [
    "# Feature extraction with TF-IDF\n",
    "from sklearn.feature_extraction.text import TfidfVectorizer\n",
    "\n",
    "vectorizer = TfidfVectorizer()\n",
    "X_train_tfidf = vectorizer.fit_transform(X_train)\n",
    "X_test_tfidf = vectorizer.transform(X_test)"
   ]
  },
  {
   "cell_type": "code",
   "execution_count": 24,
   "metadata": {},
   "outputs": [
    {
     "name": "stdout",
     "output_type": "stream",
     "text": [
      "Iteration 1: Train Accuracy = 0.9746875, Test Accuracy = 0.7145\n",
      "Iteration 2: Train Accuracy = 0.99346875, Test Accuracy = 0.750125\n",
      "Iteration 3: Train Accuracy = 0.99853125, Test Accuracy = 0.780125\n",
      "Iteration 4: Train Accuracy = 0.999375, Test Accuracy = 0.799875\n",
      "Iteration 5: Train Accuracy = 0.99984375, Test Accuracy = 0.807625\n"
     ]
    },
    {
     "data": {
      "image/png": "[encoded data removed]",
      "text/plain": [
       "<Figure size 1200x600 with 1 Axes>"
      ]
     },
     "metadata": {},
     "output_type": "display_data"
    }
   ],
   "source": [
    "# Random Forest Classifier training\n",
    "rf_model = RandomForestClassifier(n_estimators=100, random_state=42)\n",
    "rf_model.fit(X_train_tfidf, y_train)\n",
    "\n",
    "# Plot accuracy\n",
    "train_accuracies = []\n",
    "test_accuracies = []\n",
    "for i in range(1, 21):\n",
    "    rf_model = RandomForestClassifier(n_estimators=20*i, random_state=42)\n",
    "    rf_model.fit(X_train_tfidf, y_train)\n",
    "    train_accuracy = accuracy_score(y_train, rf_model.predict(X_train_tfidf))\n",
    "    test_accuracy = accuracy_score(y_test, rf_model.predict(X_test_tfidf))\n",
    "    train_accuracies.append(train_accuracy)\n",
    "    test_accuracies.append(test_accuracy)\n",
    "    print(f\"Iteration {i}: Train Accuracy = {train_accuracy}, Test Accuracy = {test_accuracy}\")\n",
    "\n",
    "plt.figure(figsize=(12, 6))\n",
    "plt.plot(range(1, 21), train_accuracies, label='Train Accuracy')\n",
    "plt.plot(range(1, 21), test_accuracies, label='Test Accuracy')\n",
    "plt.xlabel('Iteration')\n",
    "plt.ylabel('Accuracy')\n",
    "plt.legend()\n",
    "plt.show()"
   ]
  },
  {
   "cell_type": "code",
   "execution_count": 25,
   "metadata": {},
   "outputs": [
    {
     "name": "stdout",
     "output_type": "stream",
     "text": [
      "Fitting 5 folds for each of 36 candidates, totalling 180 fits\n"
     ]
    },
    {
     "name": "stdout",
     "output_type": "stream",
     "text": [
      "Best parameters: {'criterion': 'entropy', 'max_depth': 30, 'max_features': 'sqrt', 'n_estimators': 300}\n",
      "Best training accuracy: 0.8504999999999999\n"
     ]
    }
   ],
   "source": [
    "# Hyperparameter tuning\n",
    "from sklearn.model_selection import GridSearchCV\n",
    "\n",
    "param_grid = {\n",
    "    'n_estimators': [100, 200, 300],\n",
    "    'max_features': ['sqrt', 'log2'],\n",
    "    'max_depth': [10, 20, 30],\n",
    "    'criterion': ['gini', 'entropy']\n",
    "}\n",
    "\n",
    "grid_search = GridSearchCV(estimator=rf_model, param_grid=param_grid, cv=5, n_jobs=-1, verbose=2)\n",
    "grid_search.fit(X_train_tfidf, y_train)\n",
    "\n",
    "best_rf_model = grid_search.best_estimator_\n",
    "print(f'Best parameters: {grid_search.best_params_}')\n",
    "print(f'Best training accuracy: {grid_search.best_score_}')"
   ]
  },
  {
   "cell_type": "code",
   "execution_count": 26,
   "metadata": {},
   "outputs": [
    {
     "data": {
      "text/plain": [
       "['tfidf_vectorizer.pkl']"
      ]
     },
     "execution_count": 26,
     "metadata": {},
     "output_type": "execute_result"
    }
   ],
   "source": [
    "# Save the trained model\n",
    "model_filename = 'sentiment_rf_model.pkl'\n",
    "joblib.dump(best_rf_model, model_filename)\n",
    "\n",
    "# Save the fitted vectorizer\n",
    "vectorizer_filename = 'tfidf_vectorizer.pkl'\n",
    "joblib.dump(vectorizer, vectorizer_filename)"
   ]
  },
  {
   "cell_type": "code",
   "execution_count": 27,
   "metadata": {},
   "outputs": [
    {
     "name": "stderr",
     "output_type": "stream",
     "text": [
      "The tokenizer class you load from this checkpoint is not the same type as the class this function is called from. It may result in unexpected tokenization. \n",
      "The tokenizer class you load from this checkpoint is 'Wav2Vec2CTCTokenizer'. \n",
      "The class this function is called from is 'Wav2Vec2Tokenizer'.\n",
      "d:\\Data\\VSC Data\\SR\\.conda\\lib\\site-packages\\transformers\\models\\wav2vec2\\tokenization_wav2vec2.py:720: FutureWarning: The class `Wav2Vec2Tokenizer` is deprecated and will be removed in version 5 of Transformers. Please use `Wav2Vec2Processor` or `Wav2Vec2CTCTokenizer` instead.\n",
      "  warnings.warn(\n",
      "Some weights of the model checkpoint at facebook/wav2vec2-base-960h were not used when initializing Wav2Vec2ForCTC: ['wav2vec2.encoder.pos_conv_embed.conv.weight_g', 'wav2vec2.encoder.pos_conv_embed.conv.weight_v']\n",
      "- This IS expected if you are initializing Wav2Vec2ForCTC from the checkpoint of a model trained on another task or with another architecture (e.g. initializing a BertForSequenceClassification model from a BertForPreTraining model).\n",
      "- This IS NOT expected if you are initializing Wav2Vec2ForCTC from the checkpoint of a model that you expect to be exactly identical (initializing a BertForSequenceClassification model from a BertForSequenceClassification model).\n",
      "Some weights of Wav2Vec2ForCTC were not initialized from the model checkpoint at facebook/wav2vec2-base-960h and are newly initialized: ['wav2vec2.encoder.pos_conv_embed.conv.parametrizations.weight.original0', 'wav2vec2.encoder.pos_conv_embed.conv.parametrizations.weight.original1', 'wav2vec2.masked_spec_embed']\n",
      "You should probably TRAIN this model on a down-stream task to be able to use it for predictions and inference.\n"
     ]
    },
    {
     "name": "stdout",
     "output_type": "stream",
     "text": [
      "torch.Size([1, 292, 32])\n",
      "torch.Size([1, 240, 32])\n",
      "torch.Size([1, 624, 32])\n"
     ]
    }
   ],
   "source": [
    "# Fine-tuning Wav2Vec model\n",
    "tokenizer = Wav2Vec2Tokenizer.from_pretrained(\"facebook/wav2vec2-base-960h\")\n",
    "model_wav2vec = Wav2Vec2ForCTC.from_pretrained(\"facebook/wav2vec2-base-960h\")\n",
    "\n",
    "librispeech_dev_clean = LIBRISPEECH(root='LibriSpeech',url='dev-clean' , download=False)\n",
    "resampler = Resample(orig_freq=16_000, new_freq=16_000)\n",
    "\n",
    "# Specify the index or range of indices corresponding to the 'dev-clean' subset\n",
    "dev_clean_indices = [0, 1, 2]  # Specify the indices for 'dev-clean'\n",
    "\n",
    "for index in dev_clean_indices:\n",
    "    waveform, _, _, _, _, _ = librispeech_dev_clean[index]  # Accessing samples by index\n",
    "    waveform = resampler(waveform).squeeze().numpy()\n",
    "    input_values = tokenizer(waveform, return_tensors=\"pt\").input_values\n",
    "    with torch.no_grad():\n",
    "        logits = model_wav2vec(input_values).logits\n",
    "    print(logits.shape)  # torch.Size([1, 304, 32])"
   ]
  },
  {
   "cell_type": "code",
   "execution_count": 28,
   "metadata": {},
   "outputs": [],
   "source": [
    "# Save fine-tuned Wav2Vec model\n",
    "torch.save(model_wav2vec.state_dict(), 'fine_tuned_wav2vec_model.pth')\n"
   ]
  },
  {
   "cell_type": "code",
   "execution_count": 29,
   "metadata": {},
   "outputs": [
    {
     "name": "stdout",
     "output_type": "stream",
     "text": [
      "Model loaded.\n"
     ]
    }
   ],
   "source": [
    "# Load the trained model of sentiment analysis if available\n",
    "if os.path.exists('sentiment_rf_model.pkl'):\n",
    "    rf_model = joblib.load('sentiment_rf_model.pkl')\n",
    "    print(\"Model loaded.\")\n",
    "else:\n",
    "    rf_model = best_rf_model\n",
    "    print(\"No saved model found. Using the best model from GridSearch.\")"
   ]
  },
  {
   "cell_type": "code",
   "execution_count": 30,
   "metadata": {},
   "outputs": [
    {
     "name": "stderr",
     "output_type": "stream",
     "text": [
      "Some weights of the model checkpoint at facebook/wav2vec2-base-960h were not used when initializing Wav2Vec2ForCTC: ['wav2vec2.encoder.pos_conv_embed.conv.weight_g', 'wav2vec2.encoder.pos_conv_embed.conv.weight_v']\n",
      "- This IS expected if you are initializing Wav2Vec2ForCTC from the checkpoint of a model trained on another task or with another architecture (e.g. initializing a BertForSequenceClassification model from a BertForPreTraining model).\n",
      "- This IS NOT expected if you are initializing Wav2Vec2ForCTC from the checkpoint of a model that you expect to be exactly identical (initializing a BertForSequenceClassification model from a BertForSequenceClassification model).\n",
      "Some weights of Wav2Vec2ForCTC were not initialized from the model checkpoint at facebook/wav2vec2-base-960h and are newly initialized: ['wav2vec2.encoder.pos_conv_embed.conv.parametrizations.weight.original0', 'wav2vec2.encoder.pos_conv_embed.conv.parametrizations.weight.original1', 'wav2vec2.masked_spec_embed']\n",
      "You should probably TRAIN this model on a down-stream task to be able to use it for predictions and inference.\n"
     ]
    },
    {
     "name": "stdout",
     "output_type": "stream",
     "text": [
      "Fine-tuned model loaded.\n"
     ]
    }
   ],
   "source": [
    "# Load fine-tuned model of wav2vec if available\n",
    "if os.path.exists('fine_tuned_wav2vec_model.pth'):\n",
    "    model_wav2vec = Wav2Vec2ForCTC.from_pretrained(\"facebook/wav2vec2-base-960h\")\n",
    "    model_wav2vec.load_state_dict(torch.load('fine_tuned_wav2vec_model.pth'))\n",
    "    print(\"Fine-tuned model loaded.\")\n",
    "else:\n",
    "    print(\"No fine-tuned model found. Please run the fine-tuning step.\")"
   ]
  },
  {
   "cell_type": "code",
   "execution_count": 31,
   "metadata": {},
   "outputs": [],
   "source": [
    "# Load the trained model and vectorizer\n",
    "rf_model = joblib.load('sentiment_rf_model.pkl')\n",
    "vectorizer = joblib.load('tfidf_vectorizer.pkl')"
   ]
  },
  {
   "cell_type": "code",
   "execution_count": 32,
   "metadata": {},
   "outputs": [
    {
     "name": "stderr",
     "output_type": "stream",
     "text": [
      "The tokenizer class you load from this checkpoint is not the same type as the class this function is called from. It may result in unexpected tokenization. \n",
      "The tokenizer class you load from this checkpoint is 'Wav2Vec2CTCTokenizer'. \n",
      "The class this function is called from is 'Wav2Vec2Tokenizer'.\n",
      "Some weights of the model checkpoint at facebook/wav2vec2-base-960h were not used when initializing Wav2Vec2ForCTC: ['wav2vec2.encoder.pos_conv_embed.conv.weight_g', 'wav2vec2.encoder.pos_conv_embed.conv.weight_v']\n",
      "- This IS expected if you are initializing Wav2Vec2ForCTC from the checkpoint of a model trained on another task or with another architecture (e.g. initializing a BertForSequenceClassification model from a BertForPreTraining model).\n",
      "- This IS NOT expected if you are initializing Wav2Vec2ForCTC from the checkpoint of a model that you expect to be exactly identical (initializing a BertForSequenceClassification model from a BertForSequenceClassification model).\n",
      "Some weights of Wav2Vec2ForCTC were not initialized from the model checkpoint at facebook/wav2vec2-base-960h and are newly initialized: ['wav2vec2.encoder.pos_conv_embed.conv.parametrizations.weight.original0', 'wav2vec2.encoder.pos_conv_embed.conv.parametrizations.weight.original1', 'wav2vec2.masked_spec_embed']\n",
      "You should probably TRAIN this model on a down-stream task to be able to use it for predictions and inference.\n"
     ]
    }
   ],
   "source": [
    "# Function to preprocess text\n",
    "stop_words = set(stopwords.words('english'))\n",
    "lemmatizer = WordNetLemmatizer()\n",
    "\n",
    "def preprocess_text(text):\n",
    "    text = str(text)\n",
    "    text = text.lower()\n",
    "    text = text.translate(str.maketrans('', '', string.punctuation))\n",
    "    words = word_tokenize(text)\n",
    "    words = [word for word in words if word.isalpha() and word not in stop_words]\n",
    "    words = [lemmatizer.lemmatize(word) for word in words]\n",
    "    return ' '.join(words)\n",
    "\n",
    "# Function to predict sentiment\n",
    "def predict_sentiment(text):\n",
    "    processed_text = preprocess_text(text)\n",
    "    text_tfidf = vectorizer.transform([processed_text])\n",
    "    prediction = rf_model.predict(text_tfidf)\n",
    "    sentiment = 'Positive' if prediction == 1 else 'Negative'\n",
    "    return sentiment\n",
    "\n",
    "# Load the fine-tuned Wav2Vec2 model and tokenizer\n",
    "tokenizer = Wav2Vec2Tokenizer.from_pretrained(\"facebook/wav2vec2-base-960h\")\n",
    "model_wav2vec = Wav2Vec2ForCTC.from_pretrained(\"facebook/wav2vec2-base-960h\")\n",
    "model_wav2vec.load_state_dict(torch.load('fine_tuned_wav2vec_model.pth'))\n",
    "\n",
    "# Function to transcribe audio\n",
    "def transcribe_audio(audio_file_path):\n",
    "    waveform, sample_rate = torchaudio.load(audio_file_path)\n",
    "    resampler = Resample(orig_freq=sample_rate, new_freq=16000)\n",
    "    waveform = resampler(waveform).squeeze().numpy()\n",
    "    input_values = tokenizer(waveform, return_tensors=\"pt\").input_values\n",
    "    with torch.no_grad():\n",
    "        logits = model_wav2vec(input_values).logits\n",
    "    predicted_ids = torch.argmax(logits, dim=-1)\n",
    "    transcription = tokenizer.decode(predicted_ids[0])\n",
    "    return transcription.lower()\n",
    "\n",
    "# Function to load original text\n",
    "def load_ground_truth_text(ground_truth_path):\n",
    "    with open(ground_truth_path, 'r') as file:\n",
    "        ground_truth_text = file.read().strip().lower()\n",
    "    return ground_truth_text\n",
    "\n",
    "# Function to calculate WER\n",
    "def calculate_wer(audio_file_path, ground_truth_path):\n",
    "    transcription = transcribe_audio(audio_file_path)\n",
    "    ground_truth_text = load_ground_truth_text(ground_truth_path)\n",
    "    error_rate = wer(ground_truth_text, transcription)\n",
    "    return error_rate"
   ]
  },
  {
   "cell_type": "code",
   "execution_count": 37,
   "metadata": {},
   "outputs": [
    {
     "name": "stdout",
     "output_type": "stream",
     "text": [
      "Transcription 1\n",
      "Transcription for test/audio1.wav: the movi is good it has excellent story telling\n",
      "Sentiment for test/audio1.wav: Positive\n",
      "Word Error Rate (WER) for test/audio1.wav: 0.375\n",
      "Transcription 2\n",
      "Transcription for test/audio2.wav: i don't like the movie it has boring story\n",
      "Sentiment for test/audio2.wav: Negative\n",
      "Word Error Rate (WER) for test/audio2.wav: 0.0\n",
      "Transcription 3\n",
      "Transcription for test/audio3.wav: i love the moviat's fun\n",
      "Sentiment for test/audio3.wav: Positive\n",
      "Word Error Rate (WER) for test/audio3.wav: 0.5\n",
      "Transcription 4\n",
      "Transcription for test/audio4.wav: i really hate the moviits just a waste of time\n",
      "Sentiment for test/audio4.wav: Negative\n",
      "Word Error Rate (WER) for test/audio4.wav: 0.18181818181818182\n"
     ]
    }
   ],
   "source": [
    "# Usage\n",
    "def main():\n",
    "    audio_files = [\"test/audio1.wav\", \"test/audio2.wav\", \"test/audio3.wav\", \"test/audio4.wav\"]\n",
    "    ground_truth_files = [\"test/audio1.txt\", \"test/audio2.txt\", \"test/audio3.txt\", \"test/audio4.txt\"]\n",
    "\n",
    "    for i in range(4):\n",
    "        audio_input_path = audio_files[i]\n",
    "        ground_truth_path = ground_truth_files[i]\n",
    "\n",
    "        print(f\"Transcription {i+1}\")\n",
    "\n",
    "        transcription = transcribe_audio(audio_input_path)\n",
    "        print(f\"Transcription for {audio_input_path}: {transcription}\")\n",
    "\n",
    "        sentiment = predict_sentiment(transcription)\n",
    "        print(f\"Sentiment for {audio_input_path}: {sentiment}\")\n",
    "\n",
    "        error_rate = calculate_wer(audio_input_path, ground_truth_path)\n",
    "        print(f'Word Error Rate (WER) for {audio_input_path}: {error_rate}')\n",
    "\n",
    "if __name__ == \"__main__\":\n",
    "    main()"
   ]
  }
 ],
 "metadata": {
  "kernelspec": {
   "display_name": "Python 3",
   "language": "python",
   "name": "python3"
  },
  "language_info": {
   "codemirror_mode": {
    "name": "ipython",
    "version": 3
   },
   "file_extension": ".py",
   "mimetype": "text/x-python",
   "name": "python",
   "nbconvert_exporter": "python",
   "pygments_lexer": "ipython3",
   "version": "3.10.14"
  }
 },
 "nbformat": 4,
 "nbformat_minor": 4
}
